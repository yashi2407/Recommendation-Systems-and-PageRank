{
  "nbformat": 4,
  "nbformat_minor": 0,
  "metadata": {
    "colab": {
      "provenance": []
    },
    "kernelspec": {
      "name": "python3",
      "display_name": "Python 3"
    },
    "language_info": {
      "name": "python"
    }
  },
  "cells": [
    {
      "cell_type": "markdown",
      "source": [
        " Part a,b,c - Written in the writeup attached."
      ],
      "metadata": {
        "id": "jtlGooFhp9UL"
      }
    },
    {
      "cell_type": "markdown",
      "source": [
        "Part d)"
      ],
      "metadata": {
        "id": "BKAoXMBpYtYN"
      }
    },
    {
      "cell_type": "code",
      "source": [
        "import numpy as np\n",
        "\n",
        "# Load data\n",
        "ratings_matrix = np.loadtxt(\"user-shows.txt\")  # Path to user-show matrix\n",
        "with open(\"shows.txt\", \"r\") as f:\n",
        "    tv_show_titles = [line.strip() for line in f.readlines()]\n",
        "\n",
        "# Mask the first 100 shows for Alex (user at index 499)\n",
        "alex_user_index = 499\n",
        "masked_ratings = ratings_matrix.copy()\n",
        "masked_ratings[alex_user_index, :100] = 0  # Hide first 100 shows for prediction\n",
        "\n",
        "# Compute P (user degree) and Q (item degree) matrices\n",
        "user_likes_count = np.sum(masked_ratings, axis=1)\n",
        "item_popularity = np.sum(masked_ratings, axis=0)\n",
        "P = np.diag(user_likes_count)\n",
        "Q = np.diag(item_popularity)\n",
        "\n",
        "# Compute P^(-1/2) and Q^(-1/2)\n",
        "P_inv_sqrt = np.diag([1 / np.sqrt(val) if val != 0 else 0 for val in user_likes_count])\n",
        "Q_inv_sqrt = np.diag([1 / np.sqrt(val) if val != 0 else 0 for val in item_popularity])\n",
        "\n",
        "# ---------- User-User Collaborative Filtering ----------\n",
        "user_similarity_matrix = P_inv_sqrt @ masked_ratings @ masked_ratings.T @ P_inv_sqrt\n",
        "user_cf_scores = user_similarity_matrix @ masked_ratings\n",
        "alex_user_cf_scores = user_cf_scores[alex_user_index, :100]\n",
        "\n",
        "# Get top 10 recommendations from first 100 shows\n",
        "top10_user_cf_indices = np.argsort(-alex_user_cf_scores)[:10]\n",
        "top10_user_cf_titles = [tv_show_titles[i] for i in top10_user_cf_indices]\n",
        "\n",
        "# ---------- Item-Item Collaborative Filtering ----------\n",
        "item_similarity_matrix = Q_inv_sqrt @ masked_ratings.T @ masked_ratings @ Q_inv_sqrt\n",
        "item_cf_scores = masked_ratings @ item_similarity_matrix\n",
        "alex_item_cf_scores = item_cf_scores[alex_user_index, :100]\n",
        "\n",
        "# Get top 10 recommendations from first 100 shows\n",
        "top10_item_cf_indices = np.argsort(-alex_item_cf_scores)[:10]\n",
        "top10_item_cf_titles = [tv_show_titles[i] for i in top10_item_cf_indices]\n",
        "\n",
        "# ---------- Print Recommendations ----------\n",
        "print(\"Top 10 User-User CF Recommendations for Alex (from first 100 shows):\")\n",
        "for i, title in enumerate(top10_user_cf_titles, 1):\n",
        "    print(f\"{i}. {title}\")\n",
        "\n",
        "print(\"\\nTop 10 Item-Item CF Recommendations for Alex (from first 100 shows):\")\n",
        "for i, title in enumerate(top10_item_cf_titles, 1):\n",
        "    print(f\"{i}. {title}\")\n",
        "\n",
        "# ---------- Sanity Check ----------\n",
        "max_user_cf_score = np.max(alex_user_cf_scores)\n",
        "max_item_cf_score = np.max(alex_item_cf_scores)\n",
        "\n",
        "print(f\"\\nSanity Check:\")\n",
        "print(f\"Max User-User score (should be > 900): {max_user_cf_score}\")\n",
        "print(f\"Max Item-Item score (should be > 31): {max_item_cf_score}\")\n"
      ],
      "metadata": {
        "colab": {
          "base_uri": "https://localhost:8080/"
        },
        "id": "4FveH53MWO-K",
        "outputId": "5d797c96-0761-48d9-b729-51263d8dbe3f"
      },
      "execution_count": 3,
      "outputs": [
        {
          "output_type": "stream",
          "name": "stdout",
          "text": [
            "Top 10 User-User CF Recommendations for Alex (from first 100 shows):\n",
            "1. \"2009 NCAA Basketball Tournament\"\n",
            "2. \"Family Guy\"\n",
            "3. \"FOX 28 News at 10pm\"\n",
            "4. \"NBC 4 at Eleven\"\n",
            "5. \"Friends\"\n",
            "6. \"Succession\"\n",
            "7. \"Two and a Half Men\"\n",
            "8. \"Everybody Loves Raymond\"\n",
            "9. \"Law & Order: Special Victims Unit\"\n",
            "10. \"NBC 4 Today \"\n",
            "\n",
            "Top 10 Item-Item CF Recommendations for Alex (from first 100 shows):\n",
            "1. \"2009 NCAA Basketball Tournament\"\n",
            "2. \"Family Guy\"\n",
            "3. \"NBC 4 at Eleven\"\n",
            "4. \"FOX 28 News at 10pm\"\n",
            "5. \"Two and a Half Men\"\n",
            "6. \"Friends\"\n",
            "7. \"Succession\"\n",
            "8. \"Everybody Loves Raymond\"\n",
            "9. \"Law & Order: Special Victims Unit\"\n",
            "10. \"CBS Evening News\"\n",
            "\n",
            "Sanity Check:\n",
            "Max User-User score (should be > 900): 908.4800534761279\n",
            "Max Item-Item score (should be > 31): 31.364701678342406\n"
          ]
        }
      ]
    }
  ]
}